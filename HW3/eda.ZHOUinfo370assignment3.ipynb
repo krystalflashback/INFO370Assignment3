{
 "cells": [
  {
   "cell_type": "code",
   "execution_count": 1,
   "metadata": {},
   "outputs": [],
   "source": [
    "import matplotlib.pyplot as plt\n",
    "import pandas as pd"
   ]
  },
  {
   "cell_type": "code",
   "execution_count": 6,
   "metadata": {},
   "outputs": [],
   "source": [
    "file = 'dfQ1.csv'\n",
    "dfQ1 = pd.read_csv(file)"
   ]
  },
  {
   "cell_type": "code",
   "execution_count": 7,
   "metadata": {},
   "outputs": [
    {
     "data": {
      "text/html": [
       "<div>\n",
       "<style scoped>\n",
       "    .dataframe tbody tr th:only-of-type {\n",
       "        vertical-align: middle;\n",
       "    }\n",
       "\n",
       "    .dataframe tbody tr th {\n",
       "        vertical-align: top;\n",
       "    }\n",
       "\n",
       "    .dataframe thead th {\n",
       "        text-align: right;\n",
       "    }\n",
       "</style>\n",
       "<table border=\"1\" class=\"dataframe\">\n",
       "  <thead>\n",
       "    <tr style=\"text-align: right;\">\n",
       "      <th></th>\n",
       "      <th>athlete.sex</th>\n",
       "      <th>F</th>\n",
       "      <th>M</th>\n",
       "    </tr>\n",
       "  </thead>\n",
       "  <tbody>\n",
       "    <tr>\n",
       "      <th rowspan=\"8\" valign=\"top\">average_speed</th>\n",
       "      <th>count</th>\n",
       "      <td>3824.000000</td>\n",
       "      <td>4084.000000</td>\n",
       "    </tr>\n",
       "    <tr>\n",
       "      <th>mean</th>\n",
       "      <td>3.620257</td>\n",
       "      <td>5.871937</td>\n",
       "    </tr>\n",
       "    <tr>\n",
       "      <th>std</th>\n",
       "      <td>2.162280</td>\n",
       "      <td>32.467571</td>\n",
       "    </tr>\n",
       "    <tr>\n",
       "      <th>min</th>\n",
       "      <td>0.000000</td>\n",
       "      <td>0.000000</td>\n",
       "    </tr>\n",
       "    <tr>\n",
       "      <th>25%</th>\n",
       "      <td>2.293500</td>\n",
       "      <td>3.183000</td>\n",
       "    </tr>\n",
       "    <tr>\n",
       "      <th>50%</th>\n",
       "      <td>2.966000</td>\n",
       "      <td>5.293500</td>\n",
       "    </tr>\n",
       "    <tr>\n",
       "      <th>75%</th>\n",
       "      <td>5.085000</td>\n",
       "      <td>7.037000</td>\n",
       "    </tr>\n",
       "    <tr>\n",
       "      <th>max</th>\n",
       "      <td>40.066000</td>\n",
       "      <td>1888.900000</td>\n",
       "    </tr>\n",
       "    <tr>\n",
       "      <th rowspan=\"8\" valign=\"top\">distance</th>\n",
       "      <th>count</th>\n",
       "      <td>3824.000000</td>\n",
       "      <td>4084.000000</td>\n",
       "    </tr>\n",
       "    <tr>\n",
       "      <th>mean</th>\n",
       "      <td>15898.547673</td>\n",
       "      <td>27363.592483</td>\n",
       "    </tr>\n",
       "    <tr>\n",
       "      <th>std</th>\n",
       "      <td>23860.361139</td>\n",
       "      <td>33537.655537</td>\n",
       "    </tr>\n",
       "    <tr>\n",
       "      <th>min</th>\n",
       "      <td>0.000000</td>\n",
       "      <td>0.000000</td>\n",
       "    </tr>\n",
       "    <tr>\n",
       "      <th>25%</th>\n",
       "      <td>4362.400000</td>\n",
       "      <td>7204.350000</td>\n",
       "    </tr>\n",
       "    <tr>\n",
       "      <th>50%</th>\n",
       "      <td>7914.650000</td>\n",
       "      <td>16470.500000</td>\n",
       "    </tr>\n",
       "    <tr>\n",
       "      <th>75%</th>\n",
       "      <td>18651.425000</td>\n",
       "      <td>37776.350000</td>\n",
       "    </tr>\n",
       "    <tr>\n",
       "      <th>max</th>\n",
       "      <td>743883.000000</td>\n",
       "      <td>938421.000000</td>\n",
       "    </tr>\n",
       "  </tbody>\n",
       "</table>\n",
       "</div>"
      ],
      "text/plain": [
       "athlete.sex                      F              M\n",
       "average_speed count    3824.000000    4084.000000\n",
       "              mean        3.620257       5.871937\n",
       "              std         2.162280      32.467571\n",
       "              min         0.000000       0.000000\n",
       "              25%         2.293500       3.183000\n",
       "              50%         2.966000       5.293500\n",
       "              75%         5.085000       7.037000\n",
       "              max        40.066000    1888.900000\n",
       "distance      count    3824.000000    4084.000000\n",
       "              mean    15898.547673   27363.592483\n",
       "              std     23860.361139   33537.655537\n",
       "              min         0.000000       0.000000\n",
       "              25%      4362.400000    7204.350000\n",
       "              50%      7914.650000   16470.500000\n",
       "              75%     18651.425000   37776.350000\n",
       "              max    743883.000000  938421.000000"
      ]
     },
     "execution_count": 7,
     "metadata": {},
     "output_type": "execute_result"
    }
   ],
   "source": [
    "dfQ1.groupby('athlete.sex').describe().transpose()"
   ]
  },
  {
   "cell_type": "code",
   "execution_count": 8,
   "metadata": {},
   "outputs": [
    {
     "data": {
      "image/png": "[encoded data removed]",
      "text/plain": [
       "<Figure size 432x288 with 1 Axes>"
      ]
     },
     "metadata": {},
     "output_type": "display_data"
    }
   ],
   "source": [
    "femaleDis = list(dfQ1[dfQ1['athlete.sex'] == 'F']['distance'])\n",
    "tempDf = dfQ1[dfQ1['distance']<=max(femaleDis)]\n",
    "tempDf=tempDf[~((tempDf['average_speed']-tempDf['average_speed'].mean()).abs() > 3*tempDf['average_speed'].std())]\n",
    "femaleSpeed = list(tempDf[tempDf['athlete.sex'] == 'F']['average_speed'])\n",
    "maleSpeed = list(tempDf[tempDf['athlete.sex'] == 'M']['average_speed'])\n",
    "plt.hist([femaleSpeed,maleSpeed],density = 1,label = ['Female', 'Male'])\n",
    "plt.legend()\n",
    "plt.xlabel('Average Speed')\n",
    "plt.ylabel('Probability')\n",
    "plt.show()"
   ]
  }
 ],
 "metadata": {
  "kernelspec": {
   "display_name": "Python 3",
   "language": "python",
   "name": "python3"
  },
  "language_info": {
   "codemirror_mode": {
    "name": "ipython",
    "version": 3
   },
   "file_extension": ".py",
   "mimetype": "text/x-python",
   "name": "python",
   "nbconvert_exporter": "python",
   "pygments_lexer": "ipython3",
   "version": "3.6.5"
  }
 },
 "nbformat": 4,
 "nbformat_minor": 2
}
