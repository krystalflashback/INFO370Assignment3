{
 "cells": [
  {
   "cell_type": "code",
   "execution_count": 20,
   "metadata": {},
   "outputs": [],
   "source": [
    "#import Packages\n",
    "import matplotlib.pyplot as plt\n",
    "import pandas as pd\n",
    "from scipy import stats"
   ]
  },
  {
   "cell_type": "code",
   "execution_count": 6,
   "metadata": {},
   "outputs": [],
   "source": [
    "#get the data of question 1\n",
    "file = 'dfQ1.csv'\n",
    "dfQ1 = pd.read_csv(file)"
   ]
  },
  {
   "cell_type": "code",
   "execution_count": 7,
   "metadata": {},
   "outputs": [
    {
     "data": {
      "text/html": [
       "<div>\n",
       "<style scoped>\n",
       "    .dataframe tbody tr th:only-of-type {\n",
       "        vertical-align: middle;\n",
       "    }\n",
       "\n",
       "    .dataframe tbody tr th {\n",
       "        vertical-align: top;\n",
       "    }\n",
       "\n",
       "    .dataframe thead th {\n",
       "        text-align: right;\n",
       "    }\n",
       "</style>\n",
       "<table border=\"1\" class=\"dataframe\">\n",
       "  <thead>\n",
       "    <tr style=\"text-align: right;\">\n",
       "      <th></th>\n",
       "      <th>athlete.sex</th>\n",
       "      <th>F</th>\n",
       "      <th>M</th>\n",
       "    </tr>\n",
       "  </thead>\n",
       "  <tbody>\n",
       "    <tr>\n",
       "      <th rowspan=\"8\" valign=\"top\">average_speed</th>\n",
       "      <th>count</th>\n",
       "      <td>3824.000000</td>\n",
       "      <td>4084.000000</td>\n",
       "    </tr>\n",
       "    <tr>\n",
       "      <th>mean</th>\n",
       "      <td>3.620257</td>\n",
       "      <td>5.871937</td>\n",
       "    </tr>\n",
       "    <tr>\n",
       "      <th>std</th>\n",
       "      <td>2.162280</td>\n",
       "      <td>32.467571</td>\n",
       "    </tr>\n",
       "    <tr>\n",
       "      <th>min</th>\n",
       "      <td>0.000000</td>\n",
       "      <td>0.000000</td>\n",
       "    </tr>\n",
       "    <tr>\n",
       "      <th>25%</th>\n",
       "      <td>2.293500</td>\n",
       "      <td>3.183000</td>\n",
       "    </tr>\n",
       "    <tr>\n",
       "      <th>50%</th>\n",
       "      <td>2.966000</td>\n",
       "      <td>5.293500</td>\n",
       "    </tr>\n",
       "    <tr>\n",
       "      <th>75%</th>\n",
       "      <td>5.085000</td>\n",
       "      <td>7.037000</td>\n",
       "    </tr>\n",
       "    <tr>\n",
       "      <th>max</th>\n",
       "      <td>40.066000</td>\n",
       "      <td>1888.900000</td>\n",
       "    </tr>\n",
       "    <tr>\n",
       "      <th rowspan=\"8\" valign=\"top\">distance</th>\n",
       "      <th>count</th>\n",
       "      <td>3824.000000</td>\n",
       "      <td>4084.000000</td>\n",
       "    </tr>\n",
       "    <tr>\n",
       "      <th>mean</th>\n",
       "      <td>15898.547673</td>\n",
       "      <td>27363.592483</td>\n",
       "    </tr>\n",
       "    <tr>\n",
       "      <th>std</th>\n",
       "      <td>23860.361139</td>\n",
       "      <td>33537.655537</td>\n",
       "    </tr>\n",
       "    <tr>\n",
       "      <th>min</th>\n",
       "      <td>0.000000</td>\n",
       "      <td>0.000000</td>\n",
       "    </tr>\n",
       "    <tr>\n",
       "      <th>25%</th>\n",
       "      <td>4362.400000</td>\n",
       "      <td>7204.350000</td>\n",
       "    </tr>\n",
       "    <tr>\n",
       "      <th>50%</th>\n",
       "      <td>7914.650000</td>\n",
       "      <td>16470.500000</td>\n",
       "    </tr>\n",
       "    <tr>\n",
       "      <th>75%</th>\n",
       "      <td>18651.425000</td>\n",
       "      <td>37776.350000</td>\n",
       "    </tr>\n",
       "    <tr>\n",
       "      <th>max</th>\n",
       "      <td>743883.000000</td>\n",
       "      <td>938421.000000</td>\n",
       "    </tr>\n",
       "  </tbody>\n",
       "</table>\n",
       "</div>"
      ],
      "text/plain": [
       "athlete.sex                      F              M\n",
       "average_speed count    3824.000000    4084.000000\n",
       "              mean        3.620257       5.871937\n",
       "              std         2.162280      32.467571\n",
       "              min         0.000000       0.000000\n",
       "              25%         2.293500       3.183000\n",
       "              50%         2.966000       5.293500\n",
       "              75%         5.085000       7.037000\n",
       "              max        40.066000    1888.900000\n",
       "distance      count    3824.000000    4084.000000\n",
       "              mean    15898.547673   27363.592483\n",
       "              std     23860.361139   33537.655537\n",
       "              min         0.000000       0.000000\n",
       "              25%      4362.400000    7204.350000\n",
       "              50%      7914.650000   16470.500000\n",
       "              75%     18651.425000   37776.350000\n",
       "              max    743883.000000  938421.000000"
      ]
     },
     "execution_count": 7,
     "metadata": {},
     "output_type": "execute_result"
    }
   ],
   "source": [
    "#get the summary of variables based on different gender \n",
    "dfQ1.groupby('athlete.sex').describe().transpose()"
   ]
  },
  {
   "cell_type": "code",
   "execution_count": 8,
   "metadata": {},
   "outputs": [
    {
     "data": {
      "image/png": "[encoded data removed]",
      "text/plain": [
       "<Figure size 432x288 with 1 Axes>"
      ]
     },
     "metadata": {},
     "output_type": "display_data"
    }
   ],
   "source": [
    "#plot histogram to see the distribution of average speed\n",
    "femaleDis = list(dfQ1[dfQ1['athlete.sex'] == 'F']['distance'])\n",
    "tempDf = dfQ1[dfQ1['distance']<=max(femaleDis)]\n",
    "tempDf=tempDf[~((tempDf['average_speed']-tempDf['average_speed'].mean()).abs() > 3*tempDf['average_speed'].std())]\n",
    "femaleSpeed = list(tempDf[tempDf['athlete.sex'] == 'F']['average_speed'])\n",
    "maleSpeed = list(tempDf[tempDf['athlete.sex'] == 'M']['average_speed'])\n",
    "plt.hist([femaleSpeed,maleSpeed],density = 1,label = ['Female', 'Male'])\n",
    "plt.legend()\n",
    "plt.xlabel('Average Speed')\n",
    "plt.ylabel('Probability')\n",
    "plt.show()"
   ]
  },
  {
   "cell_type": "markdown",
   "metadata": {},
   "source": [
    "Question 2"
   ]
  },
  {
   "cell_type": "code",
   "execution_count": 3,
   "metadata": {},
   "outputs": [],
   "source": [
    "#get data of question 2\n",
    "file = 'dfQ2.csv'\n",
    "dfQ2 = pd.read_csv(file)"
   ]
  },
  {
   "cell_type": "code",
   "execution_count": 5,
   "metadata": {},
   "outputs": [
    {
     "data": {
      "text/html": [
       "<div>\n",
       "<style scoped>\n",
       "    .dataframe tbody tr th:only-of-type {\n",
       "        vertical-align: middle;\n",
       "    }\n",
       "\n",
       "    .dataframe tbody tr th {\n",
       "        vertical-align: top;\n",
       "    }\n",
       "\n",
       "    .dataframe thead th {\n",
       "        text-align: right;\n",
       "    }\n",
       "</style>\n",
       "<table border=\"1\" class=\"dataframe\">\n",
       "  <thead>\n",
       "    <tr style=\"text-align: right;\">\n",
       "      <th></th>\n",
       "      <th>average_heartrate</th>\n",
       "      <th>total_elevation_gain</th>\n",
       "      <th>distance</th>\n",
       "    </tr>\n",
       "  </thead>\n",
       "  <tbody>\n",
       "    <tr>\n",
       "      <th>count</th>\n",
       "      <td>1010.000000</td>\n",
       "      <td>1010.000000</td>\n",
       "      <td>1010.000000</td>\n",
       "    </tr>\n",
       "    <tr>\n",
       "      <th>mean</th>\n",
       "      <td>135.596535</td>\n",
       "      <td>398.238812</td>\n",
       "      <td>39760.291386</td>\n",
       "    </tr>\n",
       "    <tr>\n",
       "      <th>std</th>\n",
       "      <td>20.249523</td>\n",
       "      <td>807.285357</td>\n",
       "      <td>31730.162093</td>\n",
       "    </tr>\n",
       "    <tr>\n",
       "      <th>min</th>\n",
       "      <td>37.000000</td>\n",
       "      <td>0.000000</td>\n",
       "      <td>0.000000</td>\n",
       "    </tr>\n",
       "    <tr>\n",
       "      <th>25%</th>\n",
       "      <td>125.325000</td>\n",
       "      <td>55.000000</td>\n",
       "      <td>19232.275000</td>\n",
       "    </tr>\n",
       "    <tr>\n",
       "      <th>50%</th>\n",
       "      <td>138.100000</td>\n",
       "      <td>236.400000</td>\n",
       "      <td>32476.750000</td>\n",
       "    </tr>\n",
       "    <tr>\n",
       "      <th>75%</th>\n",
       "      <td>148.175000</td>\n",
       "      <td>509.750000</td>\n",
       "      <td>52463.900000</td>\n",
       "    </tr>\n",
       "    <tr>\n",
       "      <th>max</th>\n",
       "      <td>189.200000</td>\n",
       "      <td>17281.000000</td>\n",
       "      <td>260448.000000</td>\n",
       "    </tr>\n",
       "  </tbody>\n",
       "</table>\n",
       "</div>"
      ],
      "text/plain": [
       "       average_heartrate  total_elevation_gain       distance\n",
       "count        1010.000000           1010.000000    1010.000000\n",
       "mean          135.596535            398.238812   39760.291386\n",
       "std            20.249523            807.285357   31730.162093\n",
       "min            37.000000              0.000000       0.000000\n",
       "25%           125.325000             55.000000   19232.275000\n",
       "50%           138.100000            236.400000   32476.750000\n",
       "75%           148.175000            509.750000   52463.900000\n",
       "max           189.200000          17281.000000  260448.000000"
      ]
     },
     "execution_count": 5,
     "metadata": {},
     "output_type": "execute_result"
    }
   ],
   "source": [
    "#get the summary of variables \n",
    "dfQ2.describe()"
   ]
  },
  {
   "cell_type": "code",
   "execution_count": 7,
   "metadata": {},
   "outputs": [
    {
     "data": {
      "image/png": "[encoded data removed]",
      "text/plain": [
       "<Figure size 432x288 with 1 Axes>"
      ]
     },
     "metadata": {
      "needs_background": "light"
     },
     "output_type": "display_data"
    }
   ],
   "source": [
    "#plot the distribution of average heartrate\n",
    "plt.hist(dfQ2['average_heartrate'])\n",
    "plt.xlabel('average_heartrate')\n",
    "plt.ylabel('frequency')\n",
    "plt.show()"
   ]
  },
  {
   "cell_type": "code",
   "execution_count": 21,
   "metadata": {},
   "outputs": [
    {
     "data": {
      "image/png": "[encoded data removed]",
      "text/plain": [
       "<Figure size 432x288 with 1 Axes>"
      ]
     },
     "metadata": {
      "needs_background": "light"
     },
     "output_type": "display_data"
    }
   ],
   "source": [
    "# Generated scatter plot and linear fit between average_heartrate and total_elevation_gain\n",
    "slope, intercept, r_value, p_value, std_err = stats.linregress(dfQ2['total_elevation_gain'],dfQ2['average_heartrate'])\n",
    "line = slope*dfQ2['total_elevation_gain']+intercept\n",
    "\n",
    "plt.plot(dfQ2['total_elevation_gain'],dfQ2['average_heartrate'],'o', dfQ2['total_elevation_gain'], line)\n",
    "plt.title('average_heartrate v.s total_elevation_gain')\n",
    "plt.ylabel('average_heartrate')\n",
    "plt.xlabel('total_elevation_gain')\n",
    "plt.show()"
   ]
  },
  {
   "cell_type": "code",
   "execution_count": 22,
   "metadata": {},
   "outputs": [
    {
     "data": {
      "image/png": "[encoded data removed]",
      "text/plain": [
       "<Figure size 432x288 with 1 Axes>"
      ]
     },
     "metadata": {
      "needs_background": "light"
     },
     "output_type": "display_data"
    }
   ],
   "source": [
    "# Generated scatter plot and linear fit between average_heartrate and distance\n",
    "slope, intercept, r_value, p_value, std_err = stats.linregress(dfQ2['distance'],dfQ2['average_heartrate'])\n",
    "line = slope*dfQ2['distance']+intercept\n",
    "\n",
    "plt.plot(dfQ2['distance'],dfQ2['average_heartrate'],'o', dfQ2['distance'], line)\n",
    "plt.title('average_heartrate v.s distance')\n",
    "plt.ylabel('average_heartrate')\n",
    "plt.xlabel('distance')\n",
    "plt.show()"
   ]
  },
  {
   "cell_type": "code",
   "execution_count": null,
   "metadata": {},
   "outputs": [],
   "source": []
  }
 ],
 "metadata": {
  "kernelspec": {
   "display_name": "Python 3",
   "language": "python",
   "name": "python3"
  },
  "language_info": {
   "codemirror_mode": {
    "name": "ipython",
    "version": 3
   },
   "file_extension": ".py",
   "mimetype": "text/x-python",
   "name": "python",
   "nbconvert_exporter": "python",
   "pygments_lexer": "ipython3",
   "version": "3.7.1"
  }
 },
 "nbformat": 4,
 "nbformat_minor": 2
}
