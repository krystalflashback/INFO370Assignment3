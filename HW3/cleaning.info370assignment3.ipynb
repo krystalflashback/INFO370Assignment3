{
 "cells": [
  {
   "cell_type": "markdown",
   "metadata": {},
   "source": [
    "Import packages"
   ]
  },
  {
   "cell_type": "code",
   "execution_count": 1,
   "metadata": {},
   "outputs": [],
   "source": [
    "import pandas as pd "
   ]
  },
  {
   "cell_type": "markdown",
   "metadata": {},
   "source": [
    "Read data"
   ]
  },
  {
   "cell_type": "code",
   "execution_count": 55,
   "metadata": {},
   "outputs": [],
   "source": [
    "file = 'strava_activity.csv'\n",
    "df = pd.read_csv(file)"
   ]
  },
  {
   "cell_type": "markdown",
   "metadata": {},
   "source": [
    "Data preparation for question 1"
   ]
  },
  {
   "cell_type": "code",
   "execution_count": 3,
   "metadata": {},
   "outputs": [],
   "source": [
    "dfQ1 = df[['athlete.sex','average_speed','distance','type']]\n",
    "dfQ1 = dfQ1.dropna().reset_index(drop = True)\n",
    "dfQ1.to_csv(\"dfQ1.csv\", index=False, encoding='utf-8')"
   ]
  },
  {
   "cell_type": "code",
   "execution_count": 22,
   "metadata": {},
   "outputs": [
    {
     "name": "stdout",
     "output_type": "stream",
     "text": [
      "     athlete.sex  average_speed  distance  type\n",
      "0              F          3.022   21580.0  Ride\n",
      "1              M          4.062   19092.8  Ride\n",
      "2              M          5.397   23023.4  Ride\n",
      "3              F          6.314  101702.0  Ride\n",
      "4              F          1.629    2739.8  Hike\n",
      "5              M          5.868   13056.7  Ride\n",
      "6              M          4.675   24438.8  Ride\n",
      "7              F          8.173    9447.6   Run\n",
      "8              F          0.000       0.0  Ride\n",
      "9              F          3.220    4814.0   Run\n",
      "10             M          6.685   33632.8  Ride\n",
      "11             F          3.084   15818.6  Ride\n",
      "12             F          2.573   16014.5   Run\n",
      "13             F          2.376    3157.1   Run\n",
      "14             M          5.866   10628.8  Ride\n",
      "15             M          7.797   62910.9  Ride\n",
      "16             M          3.745    5000.0   Run\n",
      "17             M          6.124   28765.1  Ride\n",
      "18             M          9.249   69559.8  Ride\n",
      "19             M          8.941   32186.9  Ride\n",
      "20             M          2.973   41926.3   Run\n",
      "21             F          6.750   43609.3  Ride\n",
      "22             F          4.481   25781.1  Ride\n",
      "23             F          3.084    8371.3   Run\n",
      "24             M          7.180   48415.5  Ride\n",
      "25             M          2.881    6042.5   Run\n",
      "26             M          7.531   34499.3  Ride\n",
      "27             M          7.331   63273.8  Ride\n",
      "28             M          4.953   54424.2  Ride\n",
      "29             F          2.932    6063.5   Run\n",
      "...          ...            ...       ...   ...\n",
      "7878           M          9.614   76365.0  Ride\n",
      "7879           F          6.371   37085.1  Ride\n",
      "7880           M          7.233   56494.4  Ride\n",
      "7881           F          7.292   30373.0  Ride\n",
      "7882           F          3.255    1786.8   Run\n",
      "7883           F          3.038   24143.9   Run\n",
      "7884           M          7.869  120692.0  Ride\n",
      "7885           F          1.587     833.4   Run\n",
      "7886           F          3.161    6041.3   Run\n",
      "7887           F          7.999   38748.2  Ride\n",
      "7888           F          4.535   24481.5  Ride\n",
      "7889           M          3.217    8011.4   Run\n",
      "7890           M          7.442   22547.9  Ride\n",
      "7891           M          3.454   21009.2   Run\n",
      "7892           M          8.368   30143.3  Ride\n",
      "7893           M          2.533    6523.1   Run\n",
      "7894           M          4.637    2680.4  Ride\n",
      "7895           M          2.186    3366.2   Run\n",
      "7896           M          6.314   54122.9  Ride\n",
      "7897           M          5.945   33359.0  Ride\n",
      "7898           F          6.465  110898.0  Ride\n",
      "7899           F          0.000       0.0  Yoga\n",
      "7900           F          2.806    8155.3   Run\n",
      "7901           M          2.991    3218.7   Run\n",
      "7902           F          2.525    3521.8   Run\n",
      "7903           F          5.737   36105.8  Ride\n",
      "7904           F          5.039   15747.0  Ride\n",
      "7905           F          3.387   14904.3  Ride\n",
      "7906           M          3.596    4638.6   Run\n",
      "7907           M          8.817   38714.9  Ride\n",
      "\n",
      "[7908 rows x 4 columns]\n"
     ]
    }
   ],
   "source": [
    "print(dfQ1)"
   ]
  },
  {
   "cell_type": "markdown",
   "metadata": {},
   "source": [
    "Data preparation for question 2"
   ]
  },
  {
   "cell_type": "code",
   "execution_count": 60,
   "metadata": {},
   "outputs": [],
   "source": [
    "dfQ2 = df[df['average_heartrate']>0]\n",
    "dfQ2 = dfQ2[dfQ2['type'] == 'Ride']\n",
    "dfQ2 = dfQ2[dfQ2['athlete.country'] == dfQ2['location_country']]\n",
    "dfQ2 = dfQ2[['average_heartrate','total_elevation_gain','distance']]\n",
    "dfQ2 = dfQ2.dropna().reset_index(drop = True)\n",
    "dfQ2.to_csv(\"dfQ2.csv\", index=False, encoding='utf-8')"
   ]
  },
  {
   "cell_type": "code",
   "execution_count": 61,
   "metadata": {},
   "outputs": [
    {
     "name": "stdout",
     "output_type": "stream",
     "text": [
      "      average_heartrate  total_elevation_gain  distance\n",
      "0                 151.2                 476.3   21580.0\n",
      "1                 135.9                 303.0   24438.8\n",
      "2                 143.0                 301.0   33632.8\n",
      "3                 150.5                 241.8   28765.1\n",
      "4                 147.1                 383.8   69559.8\n",
      "5                 127.8                 103.8   48415.5\n",
      "6                 140.2                 247.0   40770.9\n",
      "7                 132.2                 268.0   39429.0\n",
      "8                 151.8                2436.0   74454.8\n",
      "9                 160.1                 197.0   49556.6\n",
      "10                151.4                 407.0   31972.0\n",
      "11                137.2                  13.7    8206.7\n",
      "12                174.3                 182.0   13720.3\n",
      "13                157.1                 928.0   41671.8\n",
      "14                112.4                  99.7   20914.1\n",
      "15                181.7                 108.2    5895.2\n",
      "16                121.8                   0.0   23045.0\n",
      "17                109.6                 448.7   21884.4\n",
      "18                164.4                   0.0   24256.5\n",
      "19                134.4                 478.0   19997.9\n",
      "20                151.6                 202.0   22226.8\n",
      "21                137.9                 109.0   25107.3\n",
      "22                123.7                1661.0  100177.0\n",
      "23                139.2                 190.0   23546.3\n",
      "24                142.7                2632.2   22796.0\n",
      "25                150.0                 904.0   39579.0\n",
      "26                121.9                 195.0   20646.1\n",
      "27                127.2                  90.0   29872.6\n",
      "28                131.3                  66.1    7430.3\n",
      "29                145.0                 263.0   28059.6\n",
      "...                 ...                   ...       ...\n",
      "980               150.1                 912.0   70735.1\n",
      "981               153.4                1135.0   65936.1\n",
      "982               128.5                 232.6   32488.1\n",
      "983               148.4                 154.0   35406.0\n",
      "984               129.8                 842.0   87546.7\n",
      "985               116.6                 395.4   19225.1\n",
      "986               151.6                 576.0   49093.2\n",
      "987               147.1                 335.0   77983.7\n",
      "988               111.5                 149.0   20607.5\n",
      "989               139.2                   0.0   21332.1\n",
      "990               139.0                   0.0   48472.1\n",
      "991               109.8                   0.0    3602.0\n",
      "992               111.1                 198.0   64684.9\n",
      "993               130.6                 683.0   50147.3\n",
      "994               142.1                 138.0   25138.2\n",
      "995               134.2                 217.0   49275.0\n",
      "996               125.6                 164.0   50000.7\n",
      "997               154.8                 297.0   38100.5\n",
      "998               126.1                 294.0   37207.6\n",
      "999               161.5                 431.0   57242.9\n",
      "1000              143.7                 431.0   30131.2\n",
      "1001              135.3                   1.0   12881.3\n",
      "1002              124.2                   9.0    4746.2\n",
      "1003              123.8                 612.0   32158.5\n",
      "1004              143.9                 846.0   51354.2\n",
      "1005              146.4                 172.0   22881.0\n",
      "1006              124.5                 762.8  120692.0\n",
      "1007              120.9                 451.0   54122.9\n",
      "1008              136.0                 549.6   33359.0\n",
      "1009              147.9                 282.0   14904.3\n",
      "\n",
      "[1010 rows x 3 columns]\n"
     ]
    }
   ],
   "source": [
    "print(dfQ2)"
   ]
  },
  {
   "cell_type": "code",
   "execution_count": null,
   "metadata": {},
   "outputs": [],
   "source": []
  }
 ],
 "metadata": {
  "kernelspec": {
   "display_name": "Python 3",
   "language": "python",
   "name": "python3"
  },
  "language_info": {
   "codemirror_mode": {
    "name": "ipython",
    "version": 3
   },
   "file_extension": ".py",
   "mimetype": "text/x-python",
   "name": "python",
   "nbconvert_exporter": "python",
   "pygments_lexer": "ipython3",
   "version": "3.7.1"
  }
 },
 "nbformat": 4,
 "nbformat_minor": 2
}
